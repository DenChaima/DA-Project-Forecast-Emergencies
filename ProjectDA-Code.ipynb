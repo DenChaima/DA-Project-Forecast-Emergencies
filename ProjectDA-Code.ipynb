{
 "cells": [
  {
   "cell_type": "markdown",
   "id": "b7779e4c",
   "metadata": {},
   "source": [
    "# Data Analysis Project Report\n"
   ]
  },
  {
   "cell_type": "markdown",
   "id": "78a3419b",
   "metadata": {},
   "source": [
    "# Introduction\n",
    "\n",
    "__Problem:__ Public Hospitals are overwhelmed by the high number of patient admissions and emergency admissions. The goal is to predict the number of emergency admissions in the upcoming months, to help prevent bed shortage and focus resources on the hospital departments that are the most in need. \n",
    "\n",
    "The objectives of this project is to:\n",
    "    \n",
    "__Objectif 1:__ Using the information about the number of emergency admissions in the past months, forecast the number of emergency admissions in the upcoming months. \n",
    "\n",
    "__Objectif 2:__ Using the information about the number of emergency admissions depending on the Treatment speciality, identify which hospital departments are most likely to receive a high number of emergency admissions in the upcoming months. "
   ]
  },
  {
   "cell_type": "markdown",
   "id": "bd8ac6db",
   "metadata": {},
   "source": [
    "# Dataset\n",
    "\n",
    "The dataset used in this project is the __Hospital Episodes Statistics (HES) dataset__, it consists of the record of all patients admitted to NHS (public) hospitals in England. It contains details of inpatient care such as number of admissions and number of emergency admissions, and it also contains details of outpatient appointments such as attended appointments and missed appointments. \n",
    "\n",
    "The records are filtered by treatment speciality, and they are produced and published monthly. The version used in this project covers the period from April 30 2018 to August 31 2021. \n",
    "\n",
    "In our case, we will just use the date (__\"Month_Ending\"__) and the treatment speciality type (__\"TRETSPEF\"__) to predict the number of emergency admissions (__\"EMERGENCY\"__) in the future. Therefore all the columns that are in the dataset and not needed are dropped. \n",
    "\n",
    "The dataset can be downloaded from the [NHS Digital website](https://digital.nhs.uk/data-and-information/publications/statistical/hospital-episode-statistics-for-admitted-patient-care-outpatient-and-accident-and-emergency-data/april-2021---september-2021) "
   ]
  },
  {
   "cell_type": "markdown",
   "id": "d9a453be",
   "metadata": {},
   "source": [
    "# Import / Install Packages \n",
    "\n",
    "First we need to install and import the needed packages for this project. "
   ]
  },
  {
   "cell_type": "code",
   "execution_count": 1,
   "id": "db08a877",
   "metadata": {},
   "outputs": [],
   "source": [
    "import numpy as np\n",
    "import pandas as pd\n",
    "import tensorflow as tf\n",
    "import matplotlib.pyplot as plt\n",
    "from sklearn.preprocessing import MinMaxScaler\n",
    "from sklearn.metrics import mean_squared_error\n",
    "from keras.models import Sequential\n",
    "from keras.layers import Dense\n",
    "from keras.layers import LSTM\n",
    "#from keras.layers import Convolution1D\n",
    "#from tensorflow.keras.layers import BatchNormalization\n",
    "#from tensorflow.keras.layers import MaxPooling1D\n",
    "\n",
    "#display all rows\n",
    "#pd.set_option('display.max_rows', None)"
   ]
  },
  {
   "cell_type": "markdown",
   "id": "4c4473a8",
   "metadata": {},
   "source": [
    "# Load the data\n",
    "\n",
    "The columns that are not needed in this project have already been dropped, and the remaining columns where save as a new csv file (__Emergency_only.csv__)"
   ]
  },
  {
   "cell_type": "code",
   "execution_count": 2,
   "id": "f07e0603",
   "metadata": {},
   "outputs": [
    {
     "name": "stdout",
     "output_type": "stream",
     "text": [
      "  Month_Ending  TRETSPEF  EMERGENCY\n",
      "0   2021-08-31       100    49715.0\n",
      "1   2021-08-31       101    11857.0\n",
      "2   2021-08-31       102      289.0\n",
      "3   2021-08-31       103       93.0\n",
      "4   2021-08-31       104     3901.0\n"
     ]
    },
    {
     "data": {
      "text/plain": [
       "(6329, 3)"
      ]
     },
     "execution_count": 2,
     "metadata": {},
     "output_type": "execute_result"
    }
   ],
   "source": [
    "#Load the dataset\n",
    "df_TRETSPEF = pd.read_csv('/Users/chaima/Documents/DA_Project/Emergency_only.csv')\n",
    "print(df_TRETSPEF.head(5))\n",
    "df_TRETSPEF.shape"
   ]
  },
  {
   "cell_type": "code",
   "execution_count": 3,
   "id": "dc418b43",
   "metadata": {},
   "outputs": [
    {
     "data": {
      "text/plain": [
       "Month_Ending     object\n",
       "TRETSPEF          int64\n",
       "EMERGENCY       float64\n",
       "dtype: object"
      ]
     },
     "execution_count": 3,
     "metadata": {},
     "output_type": "execute_result"
    }
   ],
   "source": [
    "#check data types \n",
    "df_TRETSPEF.dtypes"
   ]
  },
  {
   "cell_type": "markdown",
   "id": "fee38fdd",
   "metadata": {},
   "source": [
    "# Preprocess the data\n",
    "\n",
    "A big part of this project's work is to preprocess data so that it can be fed to the LSTM model later.\n",
    "\n",
    "First we remove the rows where the treatment speciality is unkown"
   ]
  },
  {
   "cell_type": "code",
   "execution_count": 4,
   "id": "2eba940a",
   "metadata": {},
   "outputs": [],
   "source": [
    "#drop rows where the treatment type is unkown \n",
    "df_TRETSPEF = df_TRETSPEF[df_TRETSPEF.TRETSPEF != '&']"
   ]
  },
  {
   "cell_type": "markdown",
   "id": "2bbdef7d",
   "metadata": {},
   "source": [
    "The \"Month_Ending\" column which has type object, it needs to be converted to datetime so that it can be fed to the LSTM."
   ]
  },
  {
   "cell_type": "code",
   "execution_count": 5,
   "id": "7af62201",
   "metadata": {},
   "outputs": [],
   "source": [
    "#convert the Month_Ending from float to datetime\n",
    "df_TRETSPEF['Month_Ending'] = pd.to_datetime(df_TRETSPEF.Month_Ending , format = '%Y-%m-%d')\n",
    "data = df_TRETSPEF.drop(['Month_Ending'], axis=1)\n",
    "data.index = df_TRETSPEF.Month_Ending"
   ]
  },
  {
   "cell_type": "code",
   "execution_count": 6,
   "id": "ec5264cc",
   "metadata": {},
   "outputs": [
    {
     "data": {
      "text/plain": [
       "Month_Ending    datetime64[ns]\n",
       "TRETSPEF                 int64\n",
       "EMERGENCY              float64\n",
       "dtype: object"
      ]
     },
     "execution_count": 6,
     "metadata": {},
     "output_type": "execute_result"
    }
   ],
   "source": [
    "#check types \n",
    "df_TRETSPEF.dtypes"
   ]
  },
  {
   "cell_type": "markdown",
   "id": "c10fe428",
   "metadata": {},
   "source": [
    "## Normalize the data\n",
    "\n",
    "We need the data's values to be on the same scale before being input to the model. \n",
    "\n",
    "We use the scikit-learn object __MinMaxScaler__ to normalize the dataset. the advantages of using MinMaxScaler are: \n",
    "1. Fit the scaler using available training data and then apply it the training data, meaning the training data will be used to estimate the minimum and macimum observable values, and then the normalized data is used to train the model. this is done by calling the function __fit_transform()__\n",
    "2. Apply the scale to data going forward. This means you can prepare new data in the future on which you want to make predictions."
   ]
  },
  {
   "cell_type": "code",
   "execution_count": 7,
   "id": "a485bb42",
   "metadata": {},
   "outputs": [],
   "source": [
    "#Normalize data\n",
    "scaler = MinMaxScaler(feature_range=(0, 1))\n",
    "scaled = scaler.fit_transform(df_TRETSPEF.drop(columns=['Month_Ending','TRETSPEF']))\n",
    "# create datefrane fir scaled data\n",
    "scaled_df=pd.DataFrame(data=scaled,columns=df_TRETSPEF.drop(columns=['Month_Ending','TRETSPEF']).columns)"
   ]
  },
  {
   "cell_type": "code",
   "execution_count": 8,
   "id": "0c9bbfde",
   "metadata": {},
   "outputs": [],
   "source": [
    "df=df_TRETSPEF.copy()\n",
    "df[scaled_df.columns]=np.array(scaled_df)\n",
    "df['TRETSPEF']=list(df.TRETSPEF)"
   ]
  },
  {
   "cell_type": "markdown",
   "id": "ca4655da",
   "metadata": {},
   "source": [
    "## Handle the missing values\n",
    "\n",
    "We need to first check if our dataset contains missing values:"
   ]
  },
  {
   "cell_type": "code",
   "execution_count": 9,
   "id": "977bcb80",
   "metadata": {},
   "outputs": [
    {
     "name": "stdout",
     "output_type": "stream",
     "text": [
      "Month_Ending      0\n",
      "TRETSPEF          0\n",
      "EMERGENCY       409\n",
      "dtype: int64\n"
     ]
    }
   ],
   "source": [
    "#check is there are null values in the data\n",
    "print(df.isnull().sum())"
   ]
  },
  {
   "cell_type": "markdown",
   "id": "da89731f",
   "metadata": {},
   "source": [
    "We can see that the __EMERGENCY__ column contains 409 missing values. We need to take care of these missing values, we can either:\n",
    "\n",
    "1. Omit the entire row that contains the missing values: this will not be applied in this project, because it will make the dataset smaller. \n",
    "2. Impute or Interpolate the missing values: time series data is different then regular data because it depends on time. Therefore we cannot use the mean or median to fill out the missing values. Some of the most famous methods to handle missing data in time series are:\n",
    "        - Last observation carried forward (LOCF)\n",
    "        - Next observation carried backward (NOCB)\n",
    "        - Linear interpolation \n",
    "        - Spline interpolation\n",
    "        \n",
    "In this project we use Pandas __interpolate()__ function to perform __Linear interpolation__ and fill out missing values. \n",
    "\n",
    "One important thing to do is to first reorder the data by Treatment speciality and by data. This is to ensure that the values obtained from interpolation are similar to the values of each treatment speciality (and not interpolated from other treatment specialities)."
   ]
  },
  {
   "cell_type": "code",
   "execution_count": 10,
   "id": "46303d5d",
   "metadata": {},
   "outputs": [],
   "source": [
    "def interpolate_data(df):\n",
    "    #interpolate data to handle missing data\n",
    "    order_df = df.sort_values(['TRETSPEF', 'Month_Ending'], ascending=[True, False])\n",
    "    interpolate_df = order_df.interpolate()\n",
    "    interpolate_df = interpolate_df.sort_values(['Month_Ending'], ascending=[False])\n",
    "    return interpolate_df"
   ]
  },
  {
   "cell_type": "code",
   "execution_count": 11,
   "id": "82fb54ba",
   "metadata": {},
   "outputs": [],
   "source": [
    "df=interpolate_data(df)"
   ]
  },
  {
   "cell_type": "code",
   "execution_count": 13,
   "id": "a07d19f9",
   "metadata": {},
   "outputs": [
    {
     "data": {
      "text/html": [
       "<div>\n",
       "<style scoped>\n",
       "    .dataframe tbody tr th:only-of-type {\n",
       "        vertical-align: middle;\n",
       "    }\n",
       "\n",
       "    .dataframe tbody tr th {\n",
       "        vertical-align: top;\n",
       "    }\n",
       "\n",
       "    .dataframe thead th {\n",
       "        text-align: right;\n",
       "    }\n",
       "</style>\n",
       "<table border=\"1\" class=\"dataframe\">\n",
       "  <thead>\n",
       "    <tr style=\"text-align: right;\">\n",
       "      <th></th>\n",
       "      <th>TRETSPEF</th>\n",
       "      <th>EMERGENCY</th>\n",
       "    </tr>\n",
       "    <tr>\n",
       "      <th>Month_Ending</th>\n",
       "      <th></th>\n",
       "      <th></th>\n",
       "    </tr>\n",
       "  </thead>\n",
       "  <tbody>\n",
       "    <tr>\n",
       "      <th>2021-08-31</th>\n",
       "      <td>100</td>\n",
       "      <td>0.227734</td>\n",
       "    </tr>\n",
       "    <tr>\n",
       "      <th>2021-08-31</th>\n",
       "      <td>350</td>\n",
       "      <td>0.004691</td>\n",
       "    </tr>\n",
       "    <tr>\n",
       "      <th>2021-08-31</th>\n",
       "      <td>370</td>\n",
       "      <td>0.014938</td>\n",
       "    </tr>\n",
       "    <tr>\n",
       "      <th>2021-08-31</th>\n",
       "      <td>211</td>\n",
       "      <td>0.000495</td>\n",
       "    </tr>\n",
       "    <tr>\n",
       "      <th>2021-08-31</th>\n",
       "      <td>361</td>\n",
       "      <td>0.014439</td>\n",
       "    </tr>\n",
       "  </tbody>\n",
       "</table>\n",
       "</div>"
      ],
      "text/plain": [
       "              TRETSPEF  EMERGENCY\n",
       "Month_Ending                     \n",
       "2021-08-31         100   0.227734\n",
       "2021-08-31         350   0.004691\n",
       "2021-08-31         370   0.014938\n",
       "2021-08-31         211   0.000495\n",
       "2021-08-31         361   0.014439"
      ]
     },
     "execution_count": 13,
     "metadata": {},
     "output_type": "execute_result"
    }
   ],
   "source": [
    "df=df.set_index(['Month_Ending'])\n",
    "df.head(5)"
   ]
  },
  {
   "cell_type": "code",
   "execution_count": 12,
   "id": "eb981afb",
   "metadata": {},
   "outputs": [
    {
     "name": "stdout",
     "output_type": "stream",
     "text": [
      "Month_Ending    0\n",
      "TRETSPEF        0\n",
      "EMERGENCY       0\n",
      "dtype: int64\n"
     ]
    }
   ],
   "source": [
    "#check if there are still NaN values \n",
    "print(df.isnull().sum())"
   ]
  },
  {
   "cell_type": "markdown",
   "id": "ba56eada",
   "metadata": {},
   "source": [
    "# Split the data into training set and test set\n",
    "\n",
    "To fit and evaluate the model, we need to split it into a training and test set. \n",
    "\n",
    "The problem with our dataset is that the data is not only time series data, it is considered __panel data__\n",
    "\n",
    "__Panel Data__ (also known as __Longitudinal data__) is the data which tracks the same units at different time points.\n",
    "In this case the units are the treatment specialities. \n",
    "\n",
    "Panel data cannot be split randomly like we would normaly do with regular cross-sectional data. Panel data needs to be split depending on each unit first, then the obtained splits are combined in to the final training set and test set. \n",
    "It is also important to take time in consideration when splitting the data, since we want to predict the future values, we want the training set to contain older samples, and the test set to contains the most recent samples (most recent values in time). \n"
   ]
  },
  {
   "cell_type": "code",
   "execution_count": 14,
   "id": "3d80e9c0",
   "metadata": {},
   "outputs": [],
   "source": [
    "#split data\n",
    "def train_test_split(data):\n",
    "    #data needs to be in ascending order so recent values are in test data \n",
    "    data = data.sort_values(['TRETSPEF', 'Month_Ending'], ascending=[True, True])\n",
    "    size=int(len(data)*0.8)\n",
    "    # for train data will be collected from each treatment's data which index is from 0-size (80%)\n",
    "    x_train =data.drop(columns=['EMERGENCY']).iloc[0:size] \n",
    "    # for test data will be collected from each treatment's  data which index is from size to the end (20%)\n",
    "    x_test = data.drop(columns=['EMERGENCY']).iloc[size:]\n",
    "    y_train=data['EMERGENCY'].iloc[0:size] \n",
    "    y_test=data['EMERGENCY'].iloc[size:] \n",
    "    return x_train, x_test,y_train,y_test\n",
    "\n",
    "def train_test(data):\n",
    "    # unique TRETSPEF\n",
    "    TRSPEF=list(set(data.TRETSPEF))\n",
    "    # loop each tretspef and split the data into train and test data\n",
    "    X_train=[]\n",
    "    X_test=[]\n",
    "    Y_train=[]\n",
    "    Y_test=[]\n",
    "    for i in range(0,len(TRSPEF)):\n",
    "        df=data[data['TRETSPEF']== TRSPEF[i]]\n",
    "    # applied the function I created above\n",
    "        x_train, x_test,y_train,y_test=train_test_split(df)\n",
    "        X_train.append(x_train)\n",
    "        X_test.append(x_test)\n",
    "        Y_train.append(y_train)\n",
    "        Y_test.append(y_test)\n",
    "    # concatenate each train data n X_train list and Y_train list respectively\n",
    "    X_train=pd.concat(X_train)\n",
    "    Y_train=pd.DataFrame(pd.concat(Y_train))\n",
    "    # concatenate each test dataset in X_test list and Y_test list respectively\n",
    "    X_test=pd.concat(X_test)\n",
    "    Y_test=pd.DataFrame(pd.concat(Y_test))\n",
    "    return X_train, Y_train, X_test, Y_test\n"
   ]
  },
  {
   "cell_type": "code",
   "execution_count": 15,
   "id": "6cb00fc5",
   "metadata": {},
   "outputs": [
    {
     "name": "stdout",
     "output_type": "stream",
     "text": [
      "(4935, 1)\n",
      "(4935, 1)\n",
      "(1394, 1)\n",
      "(1394, 1)\n"
     ]
    }
   ],
   "source": [
    "#split data\n",
    "X_train, Y_train, X_test, Y_test = train_test(df)\n",
    "#check the sets shape\n",
    "print(X_train.shape)\n",
    "print(Y_train.shape)\n",
    "print(X_test.shape)\n",
    "print(Y_test.shape)"
   ]
  },
  {
   "cell_type": "markdown",
   "id": "e6ddea3a",
   "metadata": {},
   "source": [
    "# Format the data\n",
    "\n",
    "Before feeding our data to the model, it must be re-framed as supervised learning problems. From a sequence to pairs of input and output sequences.\n",
    "\n",
    "this is necessary because we want to use old(t-1) data to predict the future(t+1). This is called the lag time. \n"
   ]
  },
  {
   "cell_type": "code",
   "execution_count": 16,
   "id": "5133b08d",
   "metadata": {},
   "outputs": [],
   "source": [
    "#Lag timestamp \n",
    "#transform the time series to a supervised learning problem \n",
    "def series_to_supervised(data, n_in=1, n_out=1, dropnan=True):\n",
    "    data = data.sort_values(['TRETSPEF', 'Month_Ending'], ascending=[False, True])\n",
    "    n_vars = 1 if type(data) is list else data.shape[1]\n",
    "    df = pd.DataFrame(data)\n",
    "    cols, names = list(), list()\n",
    "    \n",
    "    # input sequence (t-n, ... t-1)\n",
    "    for i in range(n_in, 0, -1):\n",
    "        cols.append(df.shift(i))\n",
    "        names += [('var%d(t-%d)' % (j+1, i)) for j in range(n_vars)]\n",
    "    # forecast sequence (t, t+1, ... t+n)\n",
    "    for i in range(0, n_out):\n",
    "        cols.append(df.shift(-i))\n",
    "        if i == 0:\n",
    "            names += [('var%d(t)' % (j+1)) for j in range(n_vars)]\n",
    "        else:\n",
    "            names += [('var%d(t+%d)' % (j+1, i)) for j in range(n_vars)]\n",
    "    # put it all together\n",
    "    agg = pd.concat(cols, axis=1)\n",
    "    agg.columns = names\n",
    "    # drop rows with NaN values\n",
    "    if dropnan:\n",
    "        agg.dropna(inplace=True)\n",
    "  \n",
    "    return agg"
   ]
  },
  {
   "cell_type": "markdown",
   "id": "cc364cfb",
   "metadata": {},
   "source": [
    "# Reshape the data \n",
    "\n",
    "LSTMs take inputs in a 3D format: samples, timesteps, features. We need to reshape our data in the format expected by LSTMs. "
   ]
  },
  {
   "cell_type": "code",
   "execution_count": 17,
   "id": "1bf26c9c",
   "metadata": {},
   "outputs": [],
   "source": [
    "#Reshape data for LSTM\n",
    "def reshape_data(train,test):\n",
    "    #Frame as supervised learning and drop all time t columns except\n",
    "    reframed_train = series_to_supervised(train, 1, 1)\n",
    "    reframed_test = series_to_supervised(test, 1, 1)\n",
    "    # split into train and test sets\n",
    "    train= reframed_train.to_numpy()\n",
    "    test=reframed_test.to_numpy()\n",
    "    \n",
    "    # split into input and outputs\n",
    "    train_X, y_train = train[:, :-1], train[:, -1]\n",
    "    test_X, y_test = test[:, :-1], test[:, -1]\n",
    "    # reshape input to be 3D [samples, timesteps, features]\n",
    "    x_train = train_X.reshape((train_X.shape[0], 1, train_X.shape[1]))\n",
    "    x_test = test_X.reshape((test_X.shape[0], 1, test_X.shape[1]))\n",
    "    return x_train,x_test,y_train,y_test"
   ]
  },
  {
   "cell_type": "code",
   "execution_count": 18,
   "id": "96939d46",
   "metadata": {},
   "outputs": [],
   "source": [
    "#combine X train and Y train as train data \n",
    "train_data=pd.DataFrame()\n",
    "train_data[X_train.columns]=X_train\n",
    "train_data[Y_train.columns]=Y_train\n",
    "#combine X test and Y test as test data \n",
    "test_data=pd.DataFrame()\n",
    "test_data[X_test.columns]=X_test\n",
    "test_data[Y_test.columns]=Y_test\n",
    "# using the function to obtian reshaped x_train,x_test,y_train,y_test\n",
    "x_train,x_test,y_train,y_test=reshape_data(train_data,test_data)"
   ]
  },
  {
   "cell_type": "code",
   "execution_count": 19,
   "id": "da7a2259",
   "metadata": {},
   "outputs": [
    {
     "name": "stdout",
     "output_type": "stream",
     "text": [
      "(4934, 1, 3)\n",
      "(4934,)\n",
      "(1393, 1, 3)\n",
      "(1393,)\n"
     ]
    }
   ],
   "source": [
    "print(x_train.shape)\n",
    "print(y_train.shape)\n",
    "print(x_test.shape)\n",
    "print(y_test.shape)"
   ]
  },
  {
   "cell_type": "markdown",
   "id": "3fdeec1b",
   "metadata": {},
   "source": [
    "# Implement the LSTM model\n",
    "\n",
    "Choosing the architecture of our model is a key part of modelling.\n",
    "\n",
    "We built an LSTM model with an LSTM layer containing 200 internal units. Followed by a Dense layer of 100 units and a dense layer with train_y.shape[0] units. The loss is computed using __mse__ and the optimizer used is the __adam__ optimizer.\n",
    "\n",
    "The number of epochs is 15, and the batch_size is 30"
   ]
  },
  {
   "cell_type": "code",
   "execution_count": 20,
   "id": "e52ba621",
   "metadata": {},
   "outputs": [],
   "source": [
    "\n",
    "def build_model(train_x, train_y, n_input=1):\n",
    "    # define parameters\n",
    "    verbose, epochs, batch_size = 1, 15, 30\n",
    "    n_timesteps, n_features, n_outputs = train_x.shape[0], train_x.shape[1], train_y.shape[0]\n",
    "   \n",
    "    # define model\n",
    "    model = tf.keras.models.Sequential()\n",
    "    model.add(tf.keras.layers.LSTM(200, activation='relu'))\n",
    "    model.add(tf.keras.layers.Dense(100, activation='relu'))\n",
    "    model.add(tf.keras.layers.Dense(n_outputs))\n",
    "    #model.compile(loss='mse', optimizer='adam',metrics=['mean_squared_error'])\n",
    "    model.compile(loss='mse', optimizer='adam')\n",
    "    \n",
    "    # fit the model\n",
    "    history = model.fit(train_x, train_y, epochs=epochs, batch_size=batch_size, verbose=verbose, shuffle=False)\n",
    " \n",
    "    return history, model"
   ]
  },
  {
   "cell_type": "markdown",
   "id": "fbc020f5",
   "metadata": {},
   "source": [
    "# Train the model"
   ]
  },
  {
   "cell_type": "code",
   "execution_count": 21,
   "id": "e94500dc",
   "metadata": {},
   "outputs": [
    {
     "name": "stdout",
     "output_type": "stream",
     "text": [
      "Epoch 1/15\n",
      "165/165 [==============================] - 2s 3ms/step - loss: 0.1919\n",
      "Epoch 2/15\n",
      "165/165 [==============================] - 1s 3ms/step - loss: 0.0072\n",
      "Epoch 3/15\n",
      "165/165 [==============================] - 1s 3ms/step - loss: 0.0071\n",
      "Epoch 4/15\n",
      "165/165 [==============================] - 1s 3ms/step - loss: 0.0070\n",
      "Epoch 5/15\n",
      "165/165 [==============================] - 1s 3ms/step - loss: 0.0067\n",
      "Epoch 6/15\n",
      "165/165 [==============================] - 1s 3ms/step - loss: 0.0065\n",
      "Epoch 7/15\n",
      "165/165 [==============================] - 1s 3ms/step - loss: 0.0065\n",
      "Epoch 8/15\n",
      "165/165 [==============================] - 1s 3ms/step - loss: 0.0065\n",
      "Epoch 9/15\n",
      "165/165 [==============================] - 1s 3ms/step - loss: 0.0065\n",
      "Epoch 10/15\n",
      "165/165 [==============================] - 1s 3ms/step - loss: 0.0065\n",
      "Epoch 11/15\n",
      "165/165 [==============================] - 1s 3ms/step - loss: 0.0065\n",
      "Epoch 12/15\n",
      "165/165 [==============================] - 1s 3ms/step - loss: 0.0065\n",
      "Epoch 13/15\n",
      "165/165 [==============================] - 1s 3ms/step - loss: 0.0065\n",
      "Epoch 14/15\n",
      "165/165 [==============================] - 1s 4ms/step - loss: 0.0065\n",
      "Epoch 15/15\n",
      "165/165 [==============================] - 1s 4ms/step - loss: 0.0065\n"
     ]
    }
   ],
   "source": [
    "history, model = build_model(x_train, y_train, n_input=1)"
   ]
  },
  {
   "cell_type": "markdown",
   "id": "2bc136cb",
   "metadata": {},
   "source": [
    "# Plot the loss\n",
    "The loss is decreasing over iterations"
   ]
  },
  {
   "cell_type": "code",
   "execution_count": 23,
   "id": "f4d79f97",
   "metadata": {},
   "outputs": [
    {
     "data": {
      "image/png": "[encoded data removed]",
      "text/plain": [
       "<Figure size 432x288 with 1 Axes>"
      ]
     },
     "metadata": {
      "needs_background": "light"
     },
     "output_type": "display_data"
    }
   ],
   "source": [
    "# plot the loss\n",
    "plt.plot(history.history['loss'], label='Loss')\n",
    "plt.legend()\n",
    "plt.show()"
   ]
  },
  {
   "cell_type": "markdown",
   "id": "96db43f8",
   "metadata": {},
   "source": [
    "# Make predictions\n",
    "\n",
    "Now that we have a model, we would like to be able to make predictions."
   ]
  },
  {
   "cell_type": "code",
   "execution_count": 24,
   "id": "de618e24",
   "metadata": {},
   "outputs": [
    {
     "data": {
      "text/plain": [
       "((1393, 4934), (1393,))"
      ]
     },
     "execution_count": 24,
     "metadata": {},
     "output_type": "execute_result"
    }
   ],
   "source": [
    "# make a prediction\n",
    "y_test_pre=model.predict(x_test)\n",
    "# check length\n",
    "y_test_pre.shape,y_test.shape"
   ]
  },
  {
   "cell_type": "code",
   "execution_count": 25,
   "id": "6eef85cd",
   "metadata": {},
   "outputs": [
    {
     "data": {
      "text/html": [
       "<div>\n",
       "<style scoped>\n",
       "    .dataframe tbody tr th:only-of-type {\n",
       "        vertical-align: middle;\n",
       "    }\n",
       "\n",
       "    .dataframe tbody tr th {\n",
       "        vertical-align: top;\n",
       "    }\n",
       "\n",
       "    .dataframe thead th {\n",
       "        text-align: right;\n",
       "    }\n",
       "</style>\n",
       "<table border=\"1\" class=\"dataframe\">\n",
       "  <thead>\n",
       "    <tr style=\"text-align: right;\">\n",
       "      <th></th>\n",
       "      <th>Month_Ending</th>\n",
       "      <th>Prediction</th>\n",
       "      <th>Actual Values</th>\n",
       "    </tr>\n",
       "  </thead>\n",
       "  <tbody>\n",
       "    <tr>\n",
       "      <th>1383</th>\n",
       "      <td>2021-08-31</td>\n",
       "      <td>0.016639</td>\n",
       "      <td>0.055849</td>\n",
       "    </tr>\n",
       "    <tr>\n",
       "      <th>1384</th>\n",
       "      <td>2020-12-31</td>\n",
       "      <td>0.016639</td>\n",
       "      <td>0.054314</td>\n",
       "    </tr>\n",
       "    <tr>\n",
       "      <th>1385</th>\n",
       "      <td>2021-01-31</td>\n",
       "      <td>0.016639</td>\n",
       "      <td>0.208481</td>\n",
       "    </tr>\n",
       "    <tr>\n",
       "      <th>1386</th>\n",
       "      <td>2021-02-28</td>\n",
       "      <td>0.016639</td>\n",
       "      <td>0.184230</td>\n",
       "    </tr>\n",
       "    <tr>\n",
       "      <th>1387</th>\n",
       "      <td>2021-03-31</td>\n",
       "      <td>0.016639</td>\n",
       "      <td>0.189672</td>\n",
       "    </tr>\n",
       "    <tr>\n",
       "      <th>1388</th>\n",
       "      <td>2021-04-30</td>\n",
       "      <td>0.016639</td>\n",
       "      <td>0.232851</td>\n",
       "    </tr>\n",
       "    <tr>\n",
       "      <th>1389</th>\n",
       "      <td>2021-05-31</td>\n",
       "      <td>0.016639</td>\n",
       "      <td>0.230757</td>\n",
       "    </tr>\n",
       "    <tr>\n",
       "      <th>1390</th>\n",
       "      <td>2021-06-30</td>\n",
       "      <td>0.016639</td>\n",
       "      <td>0.240537</td>\n",
       "    </tr>\n",
       "    <tr>\n",
       "      <th>1391</th>\n",
       "      <td>2021-07-31</td>\n",
       "      <td>0.016639</td>\n",
       "      <td>0.236076</td>\n",
       "    </tr>\n",
       "    <tr>\n",
       "      <th>1392</th>\n",
       "      <td>2021-08-31</td>\n",
       "      <td>0.016639</td>\n",
       "      <td>0.235384</td>\n",
       "    </tr>\n",
       "  </tbody>\n",
       "</table>\n",
       "</div>"
      ],
      "text/plain": [
       "     Month_Ending  Prediction  Actual Values\n",
       "1383   2021-08-31    0.016639       0.055849\n",
       "1384   2020-12-31    0.016639       0.054314\n",
       "1385   2021-01-31    0.016639       0.208481\n",
       "1386   2021-02-28    0.016639       0.184230\n",
       "1387   2021-03-31    0.016639       0.189672\n",
       "1388   2021-04-30    0.016639       0.232851\n",
       "1389   2021-05-31    0.016639       0.230757\n",
       "1390   2021-06-30    0.016639       0.240537\n",
       "1391   2021-07-31    0.016639       0.236076\n",
       "1392   2021-08-31    0.016639       0.235384"
      ]
     },
     "execution_count": 25,
     "metadata": {},
     "output_type": "execute_result"
    }
   ],
   "source": [
    "#Print dataframe containing prediction and Actual values \n",
    "pa=pd.DataFrame()\n",
    "pa['Month_Ending']=X_test.reset_index().Month_Ending.iloc[1:-1]\n",
    "pa['Prediction']=[i[0] for i in y_test_pre][1:] \n",
    "pa['Actual Values']=y_test[:-1]\n",
    "pa.tail(10)"
   ]
  },
  {
   "cell_type": "markdown",
   "id": "ae3e21a5",
   "metadata": {},
   "source": [
    "# Visualize predictions VS ground-truth"
   ]
  },
  {
   "cell_type": "code",
   "execution_count": 26,
   "id": "7169b0b2",
   "metadata": {},
   "outputs": [
    {
     "data": {
      "text/plain": [
       "<matplotlib.legend.Legend at 0x7f78dc15a9d0>"
      ]
     },
     "execution_count": 26,
     "metadata": {},
     "output_type": "execute_result"
    },
    {
     "data": {
      "image/png": "[encoded data removed]",
      "text/plain": [
       "<Figure size 1440x720 with 1 Axes>"
      ]
     },
     "metadata": {
      "needs_background": "light"
     },
     "output_type": "display_data"
    }
   ],
   "source": [
    "plt.figure(figsize=(20,10))\n",
    "pa.groupby('Month_Ending')['Prediction'].sum().plot(kind='line',label='prediction',color='red',alpha=1)\n",
    "pa.groupby(\"Month_Ending\")['Actual Values'].sum().plot(kind='line',label='actual values',color='blue',alpha=0.4)\n",
    "plt.xticks(rotation=90,size=20)\n",
    "plt.yticks(size=20)\n",
    "\n",
    "plt.ylabel('Emergency admissions',fontsize=20)\n",
    "plt.xlabel('Date',fontsize=20)\n",
    "plt.title('Predicted Values VS Acutal Values - Emergency admissions ',fontsize=20)\n",
    "plt.legend()"
   ]
  },
  {
   "cell_type": "code",
   "execution_count": null,
   "id": "a071defd",
   "metadata": {},
   "outputs": [],
   "source": [
    "#def RMSE(actual,prediction):\n",
    "  #  rmse = np.sqrt(mean_squared_error(actual,prediction))\n",
    "   # return rmse"
   ]
  },
  {
   "cell_type": "code",
   "execution_count": null,
   "id": "5fe06548",
   "metadata": {},
   "outputs": [],
   "source": [
    "#print(RMSE(y_test[:-1],[i[0] for i in y_test_pre][1:]))"
   ]
  }
 ],
 "metadata": {
  "kernelspec": {
   "display_name": "Python 3",
   "language": "python",
   "name": "python3"
  },
  "language_info": {
   "codemirror_mode": {
    "name": "ipython",
    "version": 3
   },
   "file_extension": ".py",
   "mimetype": "text/x-python",
   "name": "python",
   "nbconvert_exporter": "python",
   "pygments_lexer": "ipython3",
   "version": "3.8.5"
  }
 },
 "nbformat": 4,
 "nbformat_minor": 5
}
